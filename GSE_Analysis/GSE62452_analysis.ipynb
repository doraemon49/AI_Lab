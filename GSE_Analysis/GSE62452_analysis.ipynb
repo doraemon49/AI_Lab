{
 "cells": [
  {
   "cell_type": "code",
   "execution_count": null,
   "metadata": {},
   "outputs": [],
   "source": [
    "file_GSE62452 = 'GSE62452_genesymbol.txt'\n",
    "f = open(file_GSE62452,'r')\n",
    "print(f.read())"
   ]
  },
  {
   "cell_type": "code",
   "execution_count": null,
   "metadata": {},
   "outputs": [],
   "source": [
    "file_GSE62452_series_matrix = 'GSE62452_series_matrix.txt'\n",
    "f = open(file_GSE62452_series_matrix,'r')\n",
    "print(f.read())"
   ]
  },
  {
   "cell_type": "code",
   "execution_count": null,
   "metadata": {},
   "outputs": [],
   "source": [
    "# 파일 경로 설정\n",
    "file_GSE62452 = 'GSE62452_genesymbol.txt'\n",
    "file_GSE62452_series_matrix = 'GSE62452_series_matrix.txt'\n",
    "\n",
    "# GSE62452 파일 읽기\n",
    "with open(file_GSE62452, 'r') as f:\n",
    "    gse62452_data = f.readlines()\n",
    "\n",
    "# GSE62452_series_matrix.txt 파일에서 29번째 줄의 !Sample_title 값 가져오기\n",
    "with open(file_GSE62452_series_matrix, 'r') as f:\n",
    "    lines = f.readlines()\n",
    "    sample_titles_line = lines[28]  # 29번째 줄은 0-based index로 28\n",
    "    sample_titles = sample_titles_line.strip().split('\\t')[1:]  # 첫 번째 값은 제외하고 나머지를 가져옴\n",
    "\n",
    "# 헤더 생성 (유전자 이름, ID_REF, 그리고 Sample Titles)\n",
    "header = [\"GeneSymbol\", \"ID_REF\"] + sample_titles\n",
    "\n",
    "# 데이터를 헤더와 결합\n",
    "output_data = [header]  # 헤더 추가\n",
    "for row in gse62452_data:\n",
    "    output_data.append(row.strip().split('\\t'))\n",
    "\n",
    "# 결과 출력\n",
    "for row in output_data:\n",
    "    print('\\t'.join(row))"
   ]
  },
  {
   "cell_type": "code",
   "execution_count": null,
   "metadata": {},
   "outputs": [],
   "source": [
    "# import csv\n",
    "\n",
    "# # 파일 경로 설정\n",
    "# output_file = \"GSE62452.csv\"\n",
    "\n",
    "# # CSV 파일로 저장\n",
    "# with open(output_file, mode='w', newline='') as file:\n",
    "#     writer = csv.writer(file)\n",
    "#     writer.writerows(output_data) # row와 column을 갖춘 output_data\n",
    "\n",
    "# print(f\"Data successfully saved to {output_file}\")\n"
   ]
  },
  {
   "cell_type": "code",
   "execution_count": null,
   "metadata": {},
   "outputs": [],
   "source": []
  },
  {
   "cell_type": "code",
   "execution_count": null,
   "metadata": {},
   "outputs": [],
   "source": [
    "# output_data 구조 확인\n",
    "for i, row in enumerate(output_data[:5]):\n",
    "    print(f\"Row {i}: {row} (Type: {type(row)})\")\n"
   ]
  },
  {
   "cell_type": "code",
   "execution_count": null,
   "metadata": {},
   "outputs": [],
   "source": [
    "# 첫 번째 행(헤더)의 길이를 기준으로 비교\n",
    "header_length = len(output_data[0])\n",
    "\n",
    "# 각 행의 길이와 헤더 길이가 다른 경우 출력\n",
    "for i, row in enumerate(output_data):\n",
    "    if len(row) != header_length:\n",
    "        print(f\"Row {i} has {len(row)} columns, which is different from the header length ({header_length} columns).\")\n"
   ]
  },
  {
   "cell_type": "code",
   "execution_count": null,
   "metadata": {},
   "outputs": [],
   "source": [
    "# 헤더와 데이터 분리\n",
    "header = [col.replace('\"', '') for col in output_data[0]]  # 헤더의 따옴표 제거\n",
    "data = output_data[1:]  # 실제 데이터\n",
    "\n",
    "# 헤더와 데이터 길이 확인\n",
    "print(f\"Header length: {len(header)}\")\n",
    "print(f\"Data row length example: {len(data[0])}\")\n"
   ]
  },
  {
   "cell_type": "code",
   "execution_count": null,
   "metadata": {},
   "outputs": [],
   "source": [
    "# 각 데이터 행의 타입 및 내용 확인\n",
    "for i, row in enumerate(data):\n",
    "    for j, value in enumerate(row):\n",
    "        if not isinstance(value, str):  # 문자열이 아닌 값이 있는지 확인\n",
    "            print(f\"Non-string value found at row {i+1}, column {j+1}: {value} (Type: {type(value)})\")\n"
   ]
  },
  {
   "cell_type": "code",
   "execution_count": null,
   "metadata": {},
   "outputs": [],
   "source": []
  }
 ],
 "metadata": {
  "kernelspec": {
   "display_name": "tf_1",
   "language": "python",
   "name": "python3"
  },
  "language_info": {
   "codemirror_mode": {
    "name": "ipython",
    "version": 3
   },
   "file_extension": ".py",
   "mimetype": "text/x-python",
   "name": "python",
   "nbconvert_exporter": "python",
   "pygments_lexer": "ipython3",
   "version": "3.9.18"
  }
 },
 "nbformat": 4,
 "nbformat_minor": 2
}
